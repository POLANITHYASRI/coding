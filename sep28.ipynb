{
  "nbformat": 4,
  "nbformat_minor": 0,
  "metadata": {
    "colab": {
      "provenance": [],
      "authorship_tag": "ABX9TyNmAqImCMERQTmMFJPxA3WU"
    },
    "kernelspec": {
      "name": "python3",
      "display_name": "Python 3"
    },
    "language_info": {
      "name": "python"
    }
  },
  "cells": [
    {
      "cell_type": "code",
      "execution_count": 3,
      "metadata": {
        "colab": {
          "base_uri": "https://localhost:8080/"
        },
        "id": "Whg62Fm7Y5Mn",
        "outputId": "65045e12-2fa8-46ed-d7d2-6ffb7db4b4d3"
      },
      "outputs": [
        {
          "output_type": "stream",
          "name": "stdout",
          "text": [
            "4\n"
          ]
        }
      ],
      "source": [
        "n=[7,6,3,8,4,9,10]\n",
        "c=1\n",
        "temp=n[0]\n",
        "for i in n:\n",
        "  if i>temp:\n",
        "    c+=1\n",
        "    temp=i\n",
        "print(c)"
      ]
    },
    {
      "cell_type": "code",
      "source": [
        "n=\"NITHYA\"\n",
        "s=\"\"\n",
        "for i in n:\n",
        "  if n.index(i)%2==0:\n",
        "    s+=i.upper()\n",
        "  else:\n",
        "    s+=i.lower()\n",
        "print(s)"
      ],
      "metadata": {
        "colab": {
          "base_uri": "https://localhost:8080/"
        },
        "id": "vCb4TTutZwMl",
        "outputId": "ccedce88-bb53-41ca-ac08-801358c5f125"
      },
      "execution_count": 9,
      "outputs": [
        {
          "output_type": "stream",
          "name": "stdout",
          "text": [
            "NiThYa\n"
          ]
        }
      ]
    },
    {
      "cell_type": "code",
      "source": [
        "n=\"NITHYa\"\n",
        "s=\"\"\n",
        "for i in n:\n",
        "  if n.index(i)%2==0:\n",
        "    s+=i.upper()\n",
        "  else:\n",
        "    s+=str(ord(i))\n",
        "print(s)\n"
      ],
      "metadata": {
        "colab": {
          "base_uri": "https://localhost:8080/"
        },
        "id": "1SQ-CKC3a-hV",
        "outputId": "ec7390e9-837f-48eb-c30e-f45927ee600a"
      },
      "execution_count": 14,
      "outputs": [
        {
          "output_type": "stream",
          "name": "stdout",
          "text": [
            "N73T72Y97\n"
          ]
        }
      ]
    }
  ]
}