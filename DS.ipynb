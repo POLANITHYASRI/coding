{
  "nbformat": 4,
  "nbformat_minor": 0,
  "metadata": {
    "colab": {
      "provenance": [],
      "authorship_tag": "ABX9TyO9UZqVGHzJI8PC4noxl7fc"
    },
    "kernelspec": {
      "name": "python3",
      "display_name": "Python 3"
    },
    "language_info": {
      "name": "python"
    }
  },
  "cells": [
    {
      "cell_type": "code",
      "execution_count": null,
      "metadata": {
        "colab": {
          "base_uri": "https://localhost:8080/"
        },
        "id": "CvcS4AGHDtbV",
        "outputId": "5590fccd-e895-4926-b0b8-6678c39700ac"
      },
      "outputs": [
        {
          "output_type": "stream",
          "name": "stdout",
          "text": [
            "[5, 9, 1, 6, 4, 8]\n",
            "3\n",
            "[5, 1, 4, 6, 9, 8]\n",
            "[1, 4, 5, 6, 9, 8]\n",
            "[1, 4, 5, 6, 8, 9]\n"
          ]
        }
      ],
      "source": [
        "def pos(a,val,l):\n",
        "    for i in range(l):\n",
        "        if val==a[i]:\n",
        "            a[i],a[l-1]=a[l-1],a[i]\n",
        "    i=-1\n",
        "    for j in range(0,l-1):\n",
        "        if a[j]<val:\n",
        "            i+=1\n",
        "            a[i],a[j]=a[j],a[i]\n",
        "    i=i+1\n",
        "    print(i)\n",
        "    a[i],a[j+1]=a[j+1],a[i]\n",
        "    print(a)\n",
        "    for p in range(i-1):\n",
        "        for k in range(p+1,i):\n",
        "            if a[p]>a[k]:\n",
        "                a[p],a[k]=a[k],a[p]\n",
        "    print(a)\n",
        "    for p in range(i,l-1):\n",
        "        for k in range(p+1,l):\n",
        "            if a[p]>a[k]:\n",
        "                a[p],a[k]=a[k],a[p]\n",
        "    print(a)\n",
        "a=[5,9,1,6,4,8]\n",
        "print(a)\n",
        "pos(a,6,len(a))"
      ]
    },
    {
      "cell_type": "markdown",
      "source": [
        "Queue"
      ],
      "metadata": {
        "id": "5dmdsog6cldR"
      }
    },
    {
      "cell_type": "code",
      "source": [
        "class Node:\n",
        "        #def __new__(s,data):\n",
        "                #return object.__new__(s)\n",
        "        def __init__(s,data):\n",
        "                s.data=data\n",
        "                s.add=None\n",
        "class queue:\n",
        "        #def __new__(s):\n",
        "                #print(s)\n",
        "                #return object.__new__(s)\n",
        "        def __init__(s,n):\n",
        "                #print(s)\n",
        "                s.n=n\n",
        "                s.root=None\n",
        "                s.rare=None\n",
        "\n",
        "        def insert(s,data):\n",
        "            if (s.isFull()):\n",
        "                return \"queue is full\"\n",
        "            t=Node(data)\n",
        "            if s.root==None:\n",
        "                     s.root=t\n",
        "                     s.rare=t\n",
        "                     return\n",
        "            s.rare.add=t\n",
        "            s.rare=t\n",
        "            t.add=None\n",
        "        def delete(s):\n",
        "            if(s.isEmpty()):\n",
        "                return \"queue is empty\"\n",
        "            t=s.root\n",
        "            s.root=t.add\n",
        "            t.add=None\n",
        "            del t.add\n",
        "            del t.data\n",
        "        def isEmpty(s):\n",
        "                if s.root==None:\n",
        "                        return 1\n",
        "                return 0\n",
        "        def isFull(s):\n",
        "                if(len(s)<s.n):\n",
        "                        return 0\n",
        "                return 1\n",
        "        def __len__(s):\n",
        "                l=0\n",
        "                if s.root==None:\n",
        "                        return 0\n",
        "                l=1\n",
        "                x=s.root\n",
        "                while x.add:\n",
        "                        x=x.add\n",
        "                        l=l+1\n",
        "                return l\n",
        "        def disp(s):\n",
        "                if s.root==None:\n",
        "                        print('[]')\n",
        "                        return\n",
        "                x=s.root\n",
        "                print(end='[')\n",
        "                while x.add:\n",
        "                        print(x.data,end=',')\n",
        "                        x=x.add\n",
        "                print(x.data,end=']')\n",
        "\n",
        "l=queue(5)\n",
        "l.insert(10)\n",
        "l.insert(20)\n",
        "l.insert(30)\n",
        "l.delete()\n",
        "l.insert(20)\n",
        "l.disp()"
      ],
      "metadata": {
        "colab": {
          "base_uri": "https://localhost:8080/"
        },
        "id": "jcJ7ACzzbxR8",
        "outputId": "1c39067d-9be9-456e-ebbe-794d7fc94c31"
      },
      "execution_count": 1,
      "outputs": [
        {
          "output_type": "stream",
          "name": "stdout",
          "text": [
            "[20,30,20]"
          ]
        }
      ]
    },
    {
      "cell_type": "markdown",
      "source": [
        "circular link list"
      ],
      "metadata": {
        "id": "LrwQLLAycd-O"
      }
    },
    {
      "cell_type": "code",
      "source": [
        "class Node:\n",
        "        def __new__(s,data):\n",
        "                return object.__new__(s)\n",
        "        def __init__(s,data):\n",
        "                s.data=data\n",
        "                s.add=None\n",
        "\n",
        "class CLL:\n",
        "        def __new__(s):\n",
        "                #print(s)\n",
        "                return object.__new__(s)\n",
        "        def __init__(s):\n",
        "                #print(s)\n",
        "                s.root=None\n",
        "\n",
        "        def append(s,data):\n",
        "                t=Node(data)\n",
        "                if s.root==None:\n",
        "                        s.root=t\n",
        "                        t.add=s.root\n",
        "                        return\n",
        "                x=s.root\n",
        "                while x.add!=s.root:\n",
        "                        x=x.add\n",
        "                x.add=t\n",
        "                t.add=s.root\n",
        "        def disp(s):\n",
        "                if s.root==None:\n",
        "                        print('[]')\n",
        "                        return\n",
        "                x=s.root\n",
        "                print(end='[')\n",
        "                while x.add:\n",
        "                        print(x.data,end=',')\n",
        "                        x=x.add\n",
        "                print(x.data,end=']')\n",
        "l=CLL()\n",
        "l.append(10)\n",
        "l.append(20)\n",
        "l.append(30)\n",
        "l.append(40)\n",
        "l.disp()"
      ],
      "metadata": {
        "id": "_6NyXNmXENjX"
      },
      "execution_count": null,
      "outputs": []
    }
  ]
}