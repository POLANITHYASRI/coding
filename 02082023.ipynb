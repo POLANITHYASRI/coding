{
  "nbformat": 4,
  "nbformat_minor": 0,
  "metadata": {
    "colab": {
      "provenance": [],
      "authorship_tag": "ABX9TyOlO8OSV9JUT9pS754xZEii",
      "include_colab_link": true
    },
    "kernelspec": {
      "name": "python3",
      "display_name": "Python 3"
    },
    "language_info": {
      "name": "python"
    }
  },
  "cells": [
    {
      "cell_type": "markdown",
      "metadata": {
        "id": "view-in-github",
        "colab_type": "text"
      },
      "source": [
        "<a href=\"https://colab.research.google.com/github/POLANITHYASRI/coding/blob/master/02082023.ipynb\" target=\"_parent\"><img src=\"https://colab.research.google.com/assets/colab-badge.svg\" alt=\"Open In Colab\"/></a>"
      ]
    },
    {
      "cell_type": "code",
      "execution_count": 12,
      "metadata": {
        "colab": {
          "base_uri": "https://localhost:8080/"
        },
        "id": "d9n4w_Py0sNL",
        "outputId": "591a8405-960f-4db9-9ede-503eea79f124"
      },
      "outputs": [
        {
          "output_type": "stream",
          "name": "stdout",
          "text": [
            "enter7\n",
            "enter no of elements6\n",
            "enter no of elements2\n",
            "enter no of elements3\n",
            "enter no of elements0\n",
            "enter no of elements4\n",
            "enter no of elements0\n",
            "enter no of elements5\n",
            "[6, 2, 3, 4, 5, 0, 0]\n"
          ]
        }
      ],
      "source": [
        "n=int(input(\"enter\"))\n",
        "l=[]\n",
        "for i in range(n):\n",
        "  l.append(int(input(\"enter no of elements\")))\n",
        "l1=[]\n",
        "l2=[]\n",
        "for i in l:\n",
        "  if i!=0:\n",
        "    l1.append(i)\n",
        "  else:\n",
        "    l2.append(i)\n",
        "l=l1+l2\n",
        "\n",
        "print(l)"
      ]
    }
  ]
}