{
  "nbformat": 4,
  "nbformat_minor": 0,
  "metadata": {
    "colab": {
      "provenance": [],
      "authorship_tag": "ABX9TyNY1q/aAL659ihQOm2/MtYM"
    },
    "kernelspec": {
      "name": "python3",
      "display_name": "Python 3"
    },
    "language_info": {
      "name": "python"
    }
  },
  "cells": [
    {
      "cell_type": "code",
      "execution_count": 7,
      "metadata": {
        "colab": {
          "base_uri": "https://localhost:8080/"
        },
        "id": "Fy8TfF8uuvHP",
        "outputId": "2f66a976-c6fb-4105-b275-d48ca95af8b8"
      },
      "outputs": [
        {
          "output_type": "stream",
          "name": "stdout",
          "text": [
            "[1, 2, 0, 0, 0, 6, 3]\n"
          ]
        }
      ],
      "source": [
        "'keeping zeros in the middle of list'\n",
        "n=[1,2,0,6,0,3,0]\n",
        "n1=[]\n",
        "n2=[]\n",
        "for i in n:\n",
        "  if i==0:\n",
        "    n1.append(i)\n",
        "  else:\n",
        "    n2.append(i)\n",
        "k=int(len(n2)/2)\n",
        "p1=n2[:k]\n",
        "p2=n2[k:]\n",
        "print(p1+n1+p2)"
      ]
    },
    {
      "cell_type": "code",
      "source": [
        "n=int(input())\n",
        "if n%2==0:\n",
        "  if n>=6 and n<=20:\n",
        "    print('weired')\n",
        "  else:\n",
        "    print(\"not wiered\")\n",
        "else:\n",
        "  print(\"wired\")"
      ],
      "metadata": {
        "colab": {
          "base_uri": "https://localhost:8080/"
        },
        "id": "GJ-VfTD7w4cQ",
        "outputId": "1c013efe-100f-4f94-e087-e32bbe0e80d4"
      },
      "execution_count": 12,
      "outputs": [
        {
          "output_type": "stream",
          "name": "stdout",
          "text": [
            "23\n",
            "wired\n"
          ]
        }
      ]
    }
  ]
}