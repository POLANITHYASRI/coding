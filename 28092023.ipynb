{
  "nbformat": 4,
  "nbformat_minor": 0,
  "metadata": {
    "colab": {
      "provenance": [],
      "authorship_tag": "ABX9TyOuvMC/8mRLU6zz3Tyedc/T"
    },
    "kernelspec": {
      "name": "python3",
      "display_name": "Python 3"
    },
    "language_info": {
      "name": "python"
    }
  },
  "cells": [
    {
      "cell_type": "code",
      "execution_count": 9,
      "metadata": {
        "colab": {
          "base_uri": "https://localhost:8080/"
        },
        "id": "rN8-CIeVT2zV",
        "outputId": "d67d9a12-cf77-4a34-98a8-7157ca42d518"
      },
      "outputs": [
        {
          "name": "stdout",
          "output_type": "stream",
          "text": [
            "stack size5\n",
            "enter ur choice 1.push 2.pop 3.exit\n",
            "1\n",
            "enter a element10\n",
            "['10']\n",
            "enter ur choice 1.push 2.pop 3.exit\n",
            "1\n",
            "enter a element20\n",
            "['10', '20']\n",
            "enter ur choice 1.push 2.pop 3.exit\n",
            "1\n",
            "enter a element30\n",
            "['10', '20', '30']\n",
            "enter ur choice 1.push 2.pop 3.exit\n",
            "2\n",
            "removed element 30\n",
            "['10', '20']\n",
            "enter ur choice 1.push 2.pop 3.exit\n",
            "3\n"
          ]
        }
      ],
      "source": [
        "stack=[]\n",
        "def push():\n",
        "  if len(stack)==n:\n",
        "    print(\"stack is full\")\n",
        "  else:\n",
        "    e=input(\"enter a element\")\n",
        "    stack.append(e)\n",
        "    print(stack)\n",
        "def pop():\n",
        "  if not stack:\n",
        "    print(\"stack is empty\")\n",
        "  else:\n",
        "    e=stack.pop()\n",
        "    print(\"removed element\",e)\n",
        "    print(stack)\n",
        "n=int(input(\"stack size\"))\n",
        "while True:\n",
        "  print(\"enter ur choice 1.push 2.pop 3.exit\")\n",
        "  choice=int(input())\n",
        "  if choice==1:\n",
        "    push()\n",
        "  elif choice==2:\n",
        "    pop()\n",
        "  elif choice==3:\n",
        "    break\n",
        "  else:\n",
        "    print(\"enter valid number\")"
      ]
    },
    {
      "cell_type": "code",
      "source": [
        "s=\"svr\"\n",
        "s=list(s)\n",
        "def pop():\n",
        "  rev=\"\"\n",
        "  for i in range(len(s)):\n",
        "    e=s.pop()\n",
        "    rev+=e\n",
        "  print(rev)\n",
        "pop()"
      ],
      "metadata": {
        "colab": {
          "base_uri": "https://localhost:8080/"
        },
        "id": "7YLpFPHtYiio",
        "outputId": "5bb66166-579d-4c30-e313-e2c891cf724e"
      },
      "execution_count": 12,
      "outputs": [
        {
          "output_type": "stream",
          "name": "stdout",
          "text": [
            "rvs\n"
          ]
        }
      ]
    },
    {
      "cell_type": "code",
      "source": [],
      "metadata": {
        "id": "MF97CzMkY2go"
      },
      "execution_count": null,
      "outputs": []
    }
  ]
}