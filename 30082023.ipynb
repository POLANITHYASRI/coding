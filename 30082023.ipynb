{
  "nbformat": 4,
  "nbformat_minor": 0,
  "metadata": {
    "colab": {
      "provenance": [],
      "authorship_tag": "ABX9TyMrx2Q/9F7s2METQpOxLsEP"
    },
    "kernelspec": {
      "name": "python3",
      "display_name": "Python 3"
    },
    "language_info": {
      "name": "python"
    }
  },
  "cells": [
    {
      "cell_type": "code",
      "execution_count": 7,
      "metadata": {
        "colab": {
          "base_uri": "https://localhost:8080/"
        },
        "id": "g_DQqdvw4Na5",
        "outputId": "f6a7da8e-36c0-4a70-ea32-65b85b0bbe64"
      },
      "outputs": [
        {
          "output_type": "stream",
          "name": "stdout",
          "text": [
            "28\n",
            "perfect no\n"
          ]
        }
      ],
      "source": [
        "n=int(input())\n",
        "s=0\n",
        "for i in range(1,n):\n",
        "  if n%i==0:\n",
        "    s+=i\n",
        "if s==n:\n",
        "  print(\"perfect no\")\n",
        "else:\n",
        "  print(\"notperfect\")"
      ]
    },
    {
      "cell_type": "code",
      "source": [
        "n=[2,13,2736,2383]\n",
        "k=[]\n",
        "for i in n:\n",
        "  k.append(str(i))\n",
        "c=0\n",
        "for i in k:\n",
        " if len(i)%2==0:\n",
        "  c+=1\n",
        "print(c)\n",
        "\n",
        ""
      ],
      "metadata": {
        "colab": {
          "base_uri": "https://localhost:8080/"
        },
        "id": "FuZZqJJD5agw",
        "outputId": "4c8d501a-f78b-4b20-e977-e10b93606209"
      },
      "execution_count": 10,
      "outputs": [
        {
          "output_type": "stream",
          "name": "stdout",
          "text": [
            "3\n"
          ]
        }
      ]
    },
    {
      "cell_type": "code",
      "source": [
        "n=[12,4,5,6,3,3,4]\n",
        "p=set(n)\n",
        "k=[]\n",
        "for i in p:\n",
        "  k.append(int(i))\n",
        "k.sort()\n",
        "print(k[-2])\n"
      ],
      "metadata": {
        "colab": {
          "base_uri": "https://localhost:8080/"
        },
        "id": "VTvovuxs7Doo",
        "outputId": "04bcd07f-cba0-4ef7-9d9c-4c2737532a90"
      },
      "execution_count": 13,
      "outputs": [
        {
          "output_type": "stream",
          "name": "stdout",
          "text": [
            "6\n"
          ]
        }
      ]
    }
  ]
}