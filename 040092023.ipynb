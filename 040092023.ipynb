{
  "nbformat": 4,
  "nbformat_minor": 0,
  "metadata": {
    "colab": {
      "provenance": [],
      "authorship_tag": "ABX9TyPdwf5Wcpd2h3p6O/VKA5Wo",
      "include_colab_link": true
    },
    "kernelspec": {
      "name": "python3",
      "display_name": "Python 3"
    },
    "language_info": {
      "name": "python"
    }
  },
  "cells": [
    {
      "cell_type": "markdown",
      "metadata": {
        "id": "view-in-github",
        "colab_type": "text"
      },
      "source": [
        "<a href=\"https://colab.research.google.com/github/POLANITHYASRI/coding/blob/master/040092023.ipynb\" target=\"_parent\"><img src=\"https://colab.research.google.com/assets/colab-badge.svg\" alt=\"Open In Colab\"/></a>"
      ]
    },
    {
      "cell_type": "code",
      "execution_count": 2,
      "metadata": {
        "id": "ZudykXCzFsHB",
        "colab": {
          "base_uri": "https://localhost:8080/"
        },
        "outputId": "e4d697aa-71ff-42bd-908b-d8e83a9624e9"
      },
      "outputs": [
        {
          "output_type": "stream",
          "name": "stdout",
          "text": [
            "153\n",
            "armstrong numner\n"
          ]
        }
      ],
      "source": [
        "n=int(input())\n",
        "t=n\n",
        "s=len(str(n))\n",
        "sum=0\n",
        "while n!=0:\n",
        "  r=n%10\n",
        "  sum=sum+r**s\n",
        "  n=n//10\n",
        "if sum==t:\n",
        "  print(\"armstrong numner\")\n",
        "else:\n",
        "  print(\"not a armstrong number\")"
      ]
    },
    {
      "cell_type": "markdown",
      "source": [
        "ABUNDANT NO\n",
        "EX:12   FACTORS OF 12=1+2+3+4+6=16\n",
        "16>12"
      ],
      "metadata": {
        "id": "WEerwPDtYwWI"
      }
    },
    {
      "cell_type": "code",
      "source": [
        "n=int(input(\"enter a num:\"))\n",
        "sum=0\n",
        "for i in range(1,n):\n",
        "  if n%i==0:\n",
        "    sum=sum+i\n",
        "if sum > n:\n",
        "  print(\"abudant no\")\n",
        "else:\n",
        "  print(\"not a abundant number\")\n"
      ],
      "metadata": {
        "colab": {
          "base_uri": "https://localhost:8080/"
        },
        "id": "ED1ni_EmN8gm",
        "outputId": "6e6472ac-9586-43d8-9b3c-1d173221bb28"
      },
      "execution_count": 11,
      "outputs": [
        {
          "output_type": "stream",
          "name": "stdout",
          "text": [
            "enter a num:12\n",
            "abudant no\n"
          ]
        }
      ]
    },
    {
      "cell_type": "markdown",
      "source": [
        "HARSHAD NUMBER\n",
        "EX:81  8+1=9\n",
        "81%9=0 HARSHAD NO"
      ],
      "metadata": {
        "id": "BAV5inSlZCGM"
      }
    },
    {
      "cell_type": "code",
      "source": [
        "n=int(input(\"enter a num:\"))\n",
        "sum=0\n",
        "t=n\n",
        "while n!=0:\n",
        "  r=n%10\n",
        "  sum=sum+r\n",
        "  n=n//10\n",
        "if t%sum==0:\n",
        "  print(\"harshad no\")\n",
        "else:\n",
        "  print(\"not a harshad no\")"
      ],
      "metadata": {
        "colab": {
          "base_uri": "https://localhost:8080/"
        },
        "id": "zbtdqFtRTEsM",
        "outputId": "de50af6c-e4fe-4c9c-c4b2-57b6999d964f"
      },
      "execution_count": 18,
      "outputs": [
        {
          "output_type": "stream",
          "name": "stdout",
          "text": [
            "enter a num:81\n",
            "harshad no\n"
          ]
        }
      ]
    },
    {
      "cell_type": "markdown",
      "source": [
        "**NEON NO**\n",
        "EX:9     SQUR(9)=81\n",
        "**8+1=9**"
      ],
      "metadata": {
        "id": "OrOVKnwQZU5H"
      }
    },
    {
      "cell_type": "code",
      "source": [
        "n=int(input(\"enter a number\"))\n",
        "n1=n*n\n",
        "sum=0\n",
        "while n1!=0:\n",
        "  r=n1%10\n",
        "  sum=sum+r\n",
        "  n1=n1//10\n",
        "if n==sum:\n",
        "  print(\"neon number\")\n",
        "else:\n",
        "  print(\"not a neon number\")\n"
      ],
      "metadata": {
        "colab": {
          "base_uri": "https://localhost:8080/"
        },
        "id": "XrxbzuY9Wy59",
        "outputId": "3f94fbf0-7a22-408e-c7a7-1cd5b34bd048"
      },
      "execution_count": 19,
      "outputs": [
        {
          "output_type": "stream",
          "name": "stdout",
          "text": [
            "enter a number9\n",
            "neon number\n"
          ]
        }
      ]
    }
  ]
}